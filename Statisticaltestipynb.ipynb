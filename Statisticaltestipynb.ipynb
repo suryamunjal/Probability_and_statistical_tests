{
  "nbformat": 4,
  "nbformat_minor": 0,
  "metadata": {
    "colab": {
      "provenance": []
    },
    "kernelspec": {
      "name": "python3",
      "display_name": "Python 3"
    },
    "language_info": {
      "name": "python"
    }
  },
  "cells": [
    {
      "cell_type": "code",
      "execution_count": 1,
      "metadata": {
        "colab": {
          "base_uri": "https://localhost:8080/",
          "height": 130
        },
        "id": "UgOXmaseb05t",
        "outputId": "e4c0af8a-6ee7-400a-d283-06c8f39279b3"
      },
      "outputs": [
        {
          "output_type": "stream",
          "name": "stdout",
          "text": [
            "number of data points in our popultion: (25000, 3)\n"
          ]
        },
        {
          "output_type": "execute_result",
          "data": {
            "text/plain": [
              "   Index  Height(Inches)  Weight(Pounds)\n",
              "0      1        65.78331        112.9925\n",
              "1      2        71.51521        136.4873"
            ],
            "text/html": [
              "\n",
              "  <div id=\"df-cdf1eb13-eaba-4e11-82b1-fd041f295617\">\n",
              "    <div class=\"colab-df-container\">\n",
              "      <div>\n",
              "<style scoped>\n",
              "    .dataframe tbody tr th:only-of-type {\n",
              "        vertical-align: middle;\n",
              "    }\n",
              "\n",
              "    .dataframe tbody tr th {\n",
              "        vertical-align: top;\n",
              "    }\n",
              "\n",
              "    .dataframe thead th {\n",
              "        text-align: right;\n",
              "    }\n",
              "</style>\n",
              "<table border=\"1\" class=\"dataframe\">\n",
              "  <thead>\n",
              "    <tr style=\"text-align: right;\">\n",
              "      <th></th>\n",
              "      <th>Index</th>\n",
              "      <th>Height(Inches)</th>\n",
              "      <th>Weight(Pounds)</th>\n",
              "    </tr>\n",
              "  </thead>\n",
              "  <tbody>\n",
              "    <tr>\n",
              "      <th>0</th>\n",
              "      <td>1</td>\n",
              "      <td>65.78331</td>\n",
              "      <td>112.9925</td>\n",
              "    </tr>\n",
              "    <tr>\n",
              "      <th>1</th>\n",
              "      <td>2</td>\n",
              "      <td>71.51521</td>\n",
              "      <td>136.4873</td>\n",
              "    </tr>\n",
              "  </tbody>\n",
              "</table>\n",
              "</div>\n",
              "      <button class=\"colab-df-convert\" onclick=\"convertToInteractive('df-cdf1eb13-eaba-4e11-82b1-fd041f295617')\"\n",
              "              title=\"Convert this dataframe to an interactive table.\"\n",
              "              style=\"display:none;\">\n",
              "        \n",
              "  <svg xmlns=\"http://www.w3.org/2000/svg\" height=\"24px\"viewBox=\"0 0 24 24\"\n",
              "       width=\"24px\">\n",
              "    <path d=\"M0 0h24v24H0V0z\" fill=\"none\"/>\n",
              "    <path d=\"M18.56 5.44l.94 2.06.94-2.06 2.06-.94-2.06-.94-.94-2.06-.94 2.06-2.06.94zm-11 1L8.5 8.5l.94-2.06 2.06-.94-2.06-.94L8.5 2.5l-.94 2.06-2.06.94zm10 10l.94 2.06.94-2.06 2.06-.94-2.06-.94-.94-2.06-.94 2.06-2.06.94z\"/><path d=\"M17.41 7.96l-1.37-1.37c-.4-.4-.92-.59-1.43-.59-.52 0-1.04.2-1.43.59L10.3 9.45l-7.72 7.72c-.78.78-.78 2.05 0 2.83L4 21.41c.39.39.9.59 1.41.59.51 0 1.02-.2 1.41-.59l7.78-7.78 2.81-2.81c.8-.78.8-2.07 0-2.86zM5.41 20L4 18.59l7.72-7.72 1.47 1.35L5.41 20z\"/>\n",
              "  </svg>\n",
              "      </button>\n",
              "      \n",
              "  <style>\n",
              "    .colab-df-container {\n",
              "      display:flex;\n",
              "      flex-wrap:wrap;\n",
              "      gap: 12px;\n",
              "    }\n",
              "\n",
              "    .colab-df-convert {\n",
              "      background-color: #E8F0FE;\n",
              "      border: none;\n",
              "      border-radius: 50%;\n",
              "      cursor: pointer;\n",
              "      display: none;\n",
              "      fill: #1967D2;\n",
              "      height: 32px;\n",
              "      padding: 0 0 0 0;\n",
              "      width: 32px;\n",
              "    }\n",
              "\n",
              "    .colab-df-convert:hover {\n",
              "      background-color: #E2EBFA;\n",
              "      box-shadow: 0px 1px 2px rgba(60, 64, 67, 0.3), 0px 1px 3px 1px rgba(60, 64, 67, 0.15);\n",
              "      fill: #174EA6;\n",
              "    }\n",
              "\n",
              "    [theme=dark] .colab-df-convert {\n",
              "      background-color: #3B4455;\n",
              "      fill: #D2E3FC;\n",
              "    }\n",
              "\n",
              "    [theme=dark] .colab-df-convert:hover {\n",
              "      background-color: #434B5C;\n",
              "      box-shadow: 0px 1px 3px 1px rgba(0, 0, 0, 0.15);\n",
              "      filter: drop-shadow(0px 1px 2px rgba(0, 0, 0, 0.3));\n",
              "      fill: #FFFFFF;\n",
              "    }\n",
              "  </style>\n",
              "\n",
              "      <script>\n",
              "        const buttonEl =\n",
              "          document.querySelector('#df-cdf1eb13-eaba-4e11-82b1-fd041f295617 button.colab-df-convert');\n",
              "        buttonEl.style.display =\n",
              "          google.colab.kernel.accessAllowed ? 'block' : 'none';\n",
              "\n",
              "        async function convertToInteractive(key) {\n",
              "          const element = document.querySelector('#df-cdf1eb13-eaba-4e11-82b1-fd041f295617');\n",
              "          const dataTable =\n",
              "            await google.colab.kernel.invokeFunction('convertToInteractive',\n",
              "                                                     [key], {});\n",
              "          if (!dataTable) return;\n",
              "\n",
              "          const docLinkHtml = 'Like what you see? Visit the ' +\n",
              "            '<a target=\"_blank\" href=https://colab.research.google.com/notebooks/data_table.ipynb>data table notebook</a>'\n",
              "            + ' to learn more about interactive tables.';\n",
              "          element.innerHTML = '';\n",
              "          dataTable['output_type'] = 'display_data';\n",
              "          await google.colab.output.renderOutput(dataTable, element);\n",
              "          const docLink = document.createElement('div');\n",
              "          docLink.innerHTML = docLinkHtml;\n",
              "          element.appendChild(docLink);\n",
              "        }\n",
              "      </script>\n",
              "    </div>\n",
              "  </div>\n",
              "  "
            ]
          },
          "metadata": {},
          "execution_count": 1
        }
      ],
      "source": [
        "import pandas as pd\n",
        "df1 = pd.read_csv('HeightWeight.csv')\n",
        "print(\"number of data points in our popultion:\", df1.shape)\n",
        "df1.head(2)"
      ]
    },
    {
      "cell_type": "code",
      "source": [
        "df=df1['Height(Inches)']\n",
        "df.head(2)"
      ],
      "metadata": {
        "colab": {
          "base_uri": "https://localhost:8080/"
        },
        "id": "gM-Ic4oFcWJ0",
        "outputId": "0c1fb37d-282e-4f14-bfc8-cb422830d15e"
      },
      "execution_count": 14,
      "outputs": [
        {
          "output_type": "execute_result",
          "data": {
            "text/plain": [
              "0    65.78331\n",
              "1    71.51521\n",
              "Name: Height(Inches), dtype: float64"
            ]
          },
          "metadata": {},
          "execution_count": 14
        }
      ]
    },
    {
      "cell_type": "code",
      "source": [
        "import numpy as np\n",
        "import seaborn as sns\n",
        "import matplotlib.pyplot as plt\n",
        "\n",
        "\n",
        "print(\"Number of samples in our data: \",df.shape[0])\n",
        "sns.distplot(df, color='r',kde=True)\n",
        "plt.show()\n",
        "# population mean\n",
        "pop_mean = np.round(df.mean(),3)\n",
        "# population std\n",
        "pop_std = np.round(df.std(),3)"
      ],
      "metadata": {
        "colab": {
          "base_uri": "https://localhost:8080/",
          "height": 351
        },
        "id": "es0VQWZpcuLy",
        "outputId": "8aea6cc0-3621-4034-9213-df4016e0492c"
      },
      "execution_count": 5,
      "outputs": [
        {
          "output_type": "stream",
          "name": "stdout",
          "text": [
            "Number of samples in our data:  25000\n"
          ]
        },
        {
          "output_type": "stream",
          "name": "stderr",
          "text": [
            "/usr/local/lib/python3.7/dist-packages/seaborn/distributions.py:2619: FutureWarning: `distplot` is a deprecated function and will be removed in a future version. Please adapt your code to use either `displot` (a figure-level function with similar flexibility) or `histplot` (an axes-level function for histograms).\n",
            "  warnings.warn(msg, FutureWarning)\n"
          ]
        },
        {
          "output_type": "display_data",
          "data": {
            "text/plain": [
              "<Figure size 432x288 with 1 Axes>"
            ],
            "image/png": "[encoded data removed]"
          },
          "metadata": {
            "needs_background": "light"
          }
        }
      ]
    },
    {
      "cell_type": "code",
      "source": [
        "print(\"population mean is\",pop_mean)\n",
        "print(\"population std deviation\",pop_std)"
      ],
      "metadata": {
        "colab": {
          "base_uri": "https://localhost:8080/"
        },
        "id": "gCfDTlyLcxgt",
        "outputId": "3d1097ac-7cf5-43e9-ac15-2d0b9a9cec13"
      },
      "execution_count": 16,
      "outputs": [
        {
          "output_type": "stream",
          "name": "stdout",
          "text": [
            "population mean is 67.993\n",
            "population std deviation 1.902\n"
          ]
        }
      ]
    },
    {
      "cell_type": "markdown",
      "source": [
        " # Confidence interval when we  have knowldge about population standard deviation"
      ],
      "metadata": {
        "id": "70j-VSvWfUZp"
      }
    },
    {
      "cell_type": "code",
      "source": [
        "#so we take sigma=pop_std\n"
      ],
      "metadata": {
        "id": "506MDNUjebNE"
      },
      "execution_count": 22,
      "outputs": []
    },
    {
      "cell_type": "markdown",
      "source": [
        " there is $95\\%$ probability that pop mean will be within the range [ <font color='red'>$\\mu-2\\sigma$</font>, <font color='red'>$\\mu+2\\sigma$</font>] __"
      ],
      "metadata": {
        "id": "E27k7lFPfwom"
      }
    },
    {
      "cell_type": "code",
      "source": [
        "#lets take a sample\n",
        "import random\n"
      ],
      "metadata": {
        "id": "6VBbj5Sbfep2"
      },
      "execution_count": 29,
      "outputs": []
    },
    {
      "cell_type": "code",
      "source": [
        "def calculate_ci(sample_mean,sigma):\n",
        "    ci2=sample_mean+2*(sigma/np.sqrt(1000))\n",
        "    ci1=sample_mean-2*(sigma/np.sqrt(1000))\n",
        "    print(\"confidence interval range is \",ci1,ci2)\n",
        "    return ci1,ci2"
      ],
      "metadata": {
        "id": "Z2BsoEfrgzkw"
      },
      "execution_count": 85,
      "outputs": []
    },
    {
      "cell_type": "code",
      "source": [
        "def take_sample():\n",
        "      sample=np.random.choice(df, size=1000)\n",
        "      sample_mean=np.mean(sample)\n",
        "      sample_std=np.std(sample)\n",
        "\n",
        "      return sample_mean, sample_std\n",
        "\n",
        "\n"
      ],
      "metadata": {
        "id": "Y7tF3yQ8h29X"
      },
      "execution_count": 86,
      "outputs": []
    },
    {
      "cell_type": "code",
      "source": [
        "def check_pop_mean__in_ci(ci1,ci2):\n",
        "  if pop_mean > ci1 and pop_mean < ci2:\n",
        "    print(\"yes it lies\")\n",
        "  else:\n",
        "    print(\"no it doesnt lies\")"
      ],
      "metadata": {
        "id": "5reYJuMFi7Oa"
      },
      "execution_count": 87,
      "outputs": []
    },
    {
      "cell_type": "code",
      "source": [
        "for i in range(0,10):\n",
        "    print(\"pop_mean\",pop_mean)\n",
        "    sigma=pop_std\n",
        "    sample_mean,sample_std=take_sample()\n",
        "    ci1,ci2=calculate_ci(sample_mean,sigma)\n",
        "    check_pop_mean__in_ci(ci1,ci2)\n",
        "\n"
      ],
      "metadata": {
        "colab": {
          "base_uri": "https://localhost:8080/"
        },
        "id": "P3eJmrWmjgZA",
        "outputId": "0892004d-34ad-4551-9b2e-397dcdd286e6"
      },
      "execution_count": 88,
      "outputs": [
        {
          "output_type": "stream",
          "name": "stdout",
          "text": [
            "pop_mean 67.993\n",
            "confidence interval range is  67.83750688780721 68.0780929721928\n",
            "yes it lies\n",
            "pop_mean 67.993\n",
            "confidence interval range is  67.8439293878072 68.08451547219279\n",
            "yes it lies\n",
            "pop_mean 67.993\n",
            "confidence interval range is  67.89329344780718 68.13387953219278\n",
            "yes it lies\n",
            "pop_mean 67.993\n",
            "confidence interval range is  67.8671373578072 68.10772344219279\n",
            "yes it lies\n",
            "pop_mean 67.993\n",
            "confidence interval range is  67.88976607780721 68.1303521621928\n",
            "yes it lies\n",
            "pop_mean 67.993\n",
            "confidence interval range is  67.9807610378072 68.2213471221928\n",
            "yes it lies\n",
            "pop_mean 67.993\n",
            "confidence interval range is  67.8167466878072 68.0573327721928\n",
            "yes it lies\n",
            "pop_mean 67.993\n",
            "confidence interval range is  67.9984915078072 68.2390775921928\n",
            "no it doesnt lies\n",
            "pop_mean 67.993\n",
            "confidence interval range is  67.79153432780718 68.03212041219278\n",
            "yes it lies\n",
            "pop_mean 67.993\n",
            "confidence interval range is  67.82516086780721 68.06574695219281\n",
            "yes it lies\n"
          ]
        }
      ]
    },
    {
      "cell_type": "code",
      "source": [],
      "metadata": {
        "id": "9F3Z8msskSAU"
      },
      "execution_count": 71,
      "outputs": []
    },
    {
      "cell_type": "markdown",
      "source": [
        " # Confidence interval when we dont have knowldge about population standard deviation"
      ],
      "metadata": {
        "id": "24rsZskqlQIx"
      }
    },
    {
      "cell_type": "code",
      "source": [
        "#we use sigma as sample standard_deviation"
      ],
      "metadata": {
        "id": "lfw1YZ0GlSkK"
      },
      "execution_count": 72,
      "outputs": []
    },
    {
      "cell_type": "code",
      "source": [
        "for i in range(0,10):\n",
        "\n",
        "    sample_mean,sample_std=take_sample()\n",
        "    sigma1=sample_std\n",
        "    ci1,ci2=calculate_ci(sample_mean,sigma1)\n",
        "    check_pop_mean__in_ci(ci1,ci2)\n"
      ],
      "metadata": {
        "colab": {
          "base_uri": "https://localhost:8080/"
        },
        "id": "hqlN6-Bbl2uq",
        "outputId": "690214df-e22f-4d42-9519-528add923eee"
      },
      "execution_count": 78,
      "outputs": [
        {
          "output_type": "stream",
          "name": "stdout",
          "text": [
            "confidence interval range is  67.54344004362555 68.32060655637444\n",
            "yes it lies\n",
            "confidence interval range is  67.75007363963233 68.49147836036768\n",
            "yes it lies\n",
            "confidence interval range is  67.835661320921 68.695740879079\n",
            "yes it lies\n",
            "confidence interval range is  67.61667028384187 68.44202071615811\n",
            "yes it lies\n",
            "confidence interval range is  67.46995118303803 68.28587061696197\n",
            "yes it lies\n",
            "confidence interval range is  67.44743539738899 68.255711402611\n",
            "yes it lies\n",
            "confidence interval range is  67.63087597319718 68.35131602680285\n",
            "yes it lies\n",
            "confidence interval range is  67.38655213119907 68.19357766880094\n",
            "yes it lies\n",
            "confidence interval range is  67.6797676756983 68.5058015243017\n",
            "yes it lies\n",
            "confidence interval range is  67.16645522959406 67.9651245704059\n",
            "no it doesnt lies\n"
          ]
        }
      ]
    },
    {
      "cell_type": "markdown",
      "source": [
        "#CONFIDENCE INTERVAL USING BOOTSTRAPPING"
      ],
      "metadata": {
        "id": "qzSQ_-BD3Q51"
      }
    },
    {
      "cell_type": "code",
      "source": [
        "df=df1['Height(Inches)']\n",
        "df.head(2)"
      ],
      "metadata": {
        "colab": {
          "base_uri": "https://localhost:8080/"
        },
        "id": "COVwsO8dmOwE",
        "outputId": "fef34c1d-f4ba-4d56-88b9-5d2d66b4dfb2"
      },
      "execution_count": 2,
      "outputs": [
        {
          "output_type": "execute_result",
          "data": {
            "text/plain": [
              "0    65.78331\n",
              "1    71.51521\n",
              "Name: Height(Inches), dtype: float64"
            ]
          },
          "metadata": {},
          "execution_count": 2
        }
      ]
    },
    {
      "cell_type": "code",
      "source": [
        "print(\"population median\",np.median(df))"
      ],
      "metadata": {
        "colab": {
          "base_uri": "https://localhost:8080/"
        },
        "id": "H3B3x1kX3Pz_",
        "outputId": "6a71e5f0-11c0-49e0-899f-c4faec07779b"
      },
      "execution_count": 6,
      "outputs": [
        {
          "output_type": "stream",
          "name": "stdout",
          "text": [
            "population median 67.9957\n"
          ]
        }
      ]
    },
    {
      "cell_type": "code",
      "source": [
        "import random\n",
        "s=random.sample(df.values.tolist(),1000)\n",
        "print(len(s))"
      ],
      "metadata": {
        "colab": {
          "base_uri": "https://localhost:8080/"
        },
        "id": "2LoCmvch3Pul",
        "outputId": "9714058e-593f-4f6d-d634-306e24084317"
      },
      "execution_count": 17,
      "outputs": [
        {
          "output_type": "stream",
          "name": "stdout",
          "text": [
            "1000\n"
          ]
        }
      ]
    },
    {
      "cell_type": "code",
      "source": [
        "#boostrap samples and their medians\n",
        "medians=[]\n",
        "for i in range(0,1000):\n",
        "  random_samples_with_replacment=np.random.choice(s,100)\n",
        "  medians.append(np.median(random_samples_with_replacment))\n",
        "\n",
        "print(len(medians))\n",
        "print(medians)"
      ],
      "metadata": {
        "colab": {
          "base_uri": "https://localhost:8080/"
        },
        "id": "Guz12bo75LaK",
        "outputId": "6ecd4228-0e33-409e-d717-6d129d5cde59"
      },
      "execution_count": 18,
      "outputs": [
        {
          "output_type": "stream",
          "name": "stdout",
          "text": [
            "1000\n",
            "[68.56877, 68.160515, 68.19172499999999, 68.524225, 67.94404499999999, 68.42660000000001, 68.17143, 68.2033, 67.88169500000001, 68.214965, 68.06524999999999, 68.38498, 68.36325, 68.048685, 68.31537, 68.159975, 68.09493499999999, 68.042385, 68.336495, 67.8216, 67.95539, 68.08459500000001, 68.272045, 68.28614, 68.082315, 68.243325, 68.276905, 67.92882, 68.53047, 68.39793499999999, 68.123665, 68.1894, 68.24988, 68.193015, 68.34943000000001, 68.337305, 68.432065, 68.36866, 68.16265, 67.7098, 68.00856999999999, 68.54577499999999, 67.89729, 68.22334000000001, 68.10582, 68.33155, 68.38974, 68.03389999999999, 68.106655, 67.96129, 67.76833500000001, 68.11209500000001, 67.81987000000001, 68.05295000000001, 68.30906999999999, 68.18387, 68.225415, 68.301365, 68.14699999999999, 68.22868, 68.26931, 67.99942999999999, 68.353005, 68.39183499999999, 68.52725000000001, 67.99660499999999, 68.67492, 68.159975, 68.37714500000001, 68.07496499999999, 68.07540499999999, 67.74894, 67.95635, 68.45576, 68.40878000000001, 68.16705999999999, 67.95943, 68.42813, 68.15325, 67.47123500000001, 68.02302, 68.160515, 68.20225500000001, 67.87289, 68.0615, 68.29597000000001, 67.92427, 68.10286500000001, 68.405265, 67.93019000000001, 67.95539, 68.11385, 67.95265, 67.89456000000001, 68.15441, 68.34105, 68.35964000000001, 67.696035, 68.17889, 68.165455, 68.031635, 68.38374999999999, 67.825445, 67.564395, 67.476425, 68.293575, 67.69185999999999, 68.312805, 68.39902000000001, 67.54690500000001, 68.12662499999999, 68.12771000000001, 68.43752, 68.08493, 67.98058, 68.13040000000001, 68.22439, 68.09907, 68.44563, 68.20424, 68.21446, 68.349635, 68.34547, 68.302265, 67.812295, 68.315315, 68.07540499999999, 68.25555, 68.36209500000001, 68.24271, 68.413845, 67.59575000000001, 68.05622, 68.264825, 68.148685, 68.258805, 68.097455, 68.121585, 67.96173, 68.41202000000001, 68.234475, 68.22859, 67.53662, 67.3188, 68.59073000000001, 68.46415999999999, 67.98125999999999, 68.01529500000001, 68.112075, 68.49932000000001, 68.13795999999999, 68.143575, 67.68458, 68.617245, 68.147145, 68.463195, 67.66668, 67.47367, 67.68228500000001, 68.340045, 67.69958, 68.03344999999999, 68.371385, 68.429555, 68.432065, 68.353385, 68.67421999999999, 68.337365, 68.171875, 68.061515, 67.89731, 67.90653499999999, 68.72924499999999, 68.25686999999999, 67.81555, 68.04661999999999, 68.081215, 68.288865, 68.262865, 68.290065, 68.15413, 68.28614, 68.00131, 68.166845, 68.25706, 67.97763, 68.100435, 68.24733, 68.2425, 68.44703, 68.0779, 67.89421, 68.100155, 68.22334000000001, 68.29082, 68.061685, 68.261685, 68.26139, 68.25961000000001, 67.752685, 67.89003, 67.55321, 68.14597499999999, 68.330695, 67.946145, 68.194635, 68.19832, 68.43757, 68.28212, 68.256685, 67.71385000000001, 68.16063, 68.203055, 67.78688, 68.05125, 67.99817999999999, 68.10117, 67.88971000000001, 68.319545, 68.38875, 67.903865, 67.712445, 68.353005, 68.14718, 68.63947999999999, 68.14353, 68.20399499999999, 68.3134, 67.56831, 68.05453, 68.452215, 68.205285, 68.47441, 68.195, 68.329695, 68.362875, 68.53744499999999, 68.081215, 68.223345, 68.23559, 68.25121, 68.00627, 68.23336499999999, 67.618955, 67.922955, 67.93082000000001, 67.76230000000001, 68.43506, 68.201295, 68.03354999999999, 68.234545, 67.91734, 68.045035, 68.20329, 68.142005, 67.708405, 68.47294, 68.46415999999999, 67.95196, 68.096615, 67.93010000000001, 67.83732499999999, 68.06524999999999, 68.33516, 68.35719, 68.37547, 68.23084, 68.10599500000001, 68.02834, 68.257675, 68.11959, 67.863605, 67.92939000000001, 68.18167, 68.099685, 68.042385, 68.017685, 68.379395, 68.10286500000001, 68.11219, 67.99593999999999, 68.19876, 68.22439, 67.880435, 67.73614, 67.957885, 68.036825, 68.05789, 67.84682000000001, 67.98500999999999, 67.974555, 68.315315, 67.73991000000001, 68.16846, 68.290065, 68.160255, 68.15325, 68.37848, 68.129665, 68.13884999999999, 68.38457, 68.50874, 67.71866, 68.2184, 68.19091499999999, 68.31906000000001, 68.02278000000001, 67.760005, 68.147145, 68.056295, 67.839465, 68.174515, 68.17528, 68.24151, 68.10004, 68.203055, 68.54338, 68.25843, 68.249945, 67.638685, 68.35558499999999, 67.955795, 68.28281000000001, 68.15144000000001, 68.14945, 68.08687499999999, 68.09109000000001, 68.139025, 68.081215, 67.942635, 68.13059000000001, 68.361665, 68.229095, 68.56946, 68.365005, 68.026675, 68.12020000000001, 68.182815, 68.017685, 67.851625, 68.23744, 67.791945, 68.245395, 68.355495, 68.27950000000001, 68.005075, 68.25955, 68.489105, 68.097455, 68.186785, 68.166605, 67.9975, 67.69525999999999, 67.64304, 68.175355, 68.12771000000001, 68.148795, 68.445815, 68.069885, 68.3268, 68.32740000000001, 67.648525, 68.073435, 67.84246999999999, 68.10951, 68.149965, 68.171875, 68.22167999999999, 68.09125, 67.94790499999999, 68.05386, 67.874375, 68.116305, 67.78465, 67.913245, 68.042385, 68.40977000000001, 68.19466, 68.51198500000001, 68.561185, 68.178715, 68.096615, 68.509265, 68.37695500000001, 68.24326, 68.83018, 68.5265, 67.90312, 68.39886, 68.15226999999999, 68.28091, 68.276925, 68.37301500000001, 68.37504, 68.139315, 68.267205, 67.74894, 67.629715, 68.178695, 68.01935, 67.9529, 67.89562000000001, 68.13588, 67.87066, 68.52712, 68.22829, 68.59013, 67.722485, 67.70653, 68.18262, 67.88384500000001, 68.438355, 68.04425, 68.09561, 68.269185, 68.48037500000001, 68.11746500000001, 68.46018000000001, 68.3295, 68.38719, 68.18395, 68.228395, 68.17254, 67.875815, 68.433615, 67.51386, 68.45331, 68.11198, 68.129385, 68.26815, 68.05905, 68.44452000000001, 68.43456499999999, 68.09414000000001, 68.15972, 67.97025, 67.856725, 68.35676000000001, 68.3902, 68.15716, 68.337795, 68.22646, 68.06011000000001, 68.05426, 68.384435, 67.7322, 67.97199499999999, 68.25395, 68.29646, 67.99598499999999, 67.96079, 68.11546, 68.10844, 68.461555, 68.39886, 68.31756999999999, 68.401805, 68.153695, 67.924065, 68.04030499999999, 68.03751, 68.25512499999999, 68.232855, 68.179895, 68.13371000000001, 67.70653, 68.09553500000001, 68.028355, 67.98717500000001, 68.09219999999999, 68.20127500000001, 68.16316, 68.389225, 68.48362, 68.09152, 68.164245, 67.893475, 68.535665, 68.20061000000001, 67.95539, 68.41884999999999, 68.056265, 68.437705, 67.81782, 68.28384500000001, 68.02994, 68.39183499999999, 68.357135, 68.00775999999999, 68.12686, 68.19408, 68.19697500000001, 68.183675, 68.578045, 67.572235, 67.91509500000001, 67.81034, 68.149965, 68.224325, 67.97565, 68.2565, 68.293065, 68.099, 68.337305, 68.53151, 67.7333, 68.237505, 67.72192000000001, 68.06524999999999, 68.245, 68.21164, 68.082675, 67.868875, 68.274055, 67.717075, 68.43766500000001, 67.97443999999999, 68.47494, 68.141615, 68.38719, 68.05512999999999, 68.14017, 68.20519999999999, 68.08079000000001, 68.27766, 68.2425, 68.088585, 68.14122499999999, 67.79755, 68.01172, 67.977495, 67.92945, 68.10252, 68.445815, 68.09907, 68.168115, 68.12165, 67.94233, 68.432065, 68.0683, 68.07799, 68.19852499999999, 68.172345, 67.91424, 68.25512499999999, 68.407145, 68.33355, 68.2183, 68.32314, 68.232855, 67.93217, 68.19876, 68.70742000000001, 68.525805, 68.23084, 68.394615, 68.121145, 68.22630000000001, 67.7333, 68.56833, 68.069985, 68.09115, 67.94501, 67.88869, 68.106655, 68.082315, 68.02810500000001, 67.973345, 68.087825, 68.42660000000001, 68.46232, 67.48911, 68.11209500000001, 67.90232, 68.18262, 68.10294, 67.54198, 68.216395, 68.00479, 68.365005, 68.19101, 68.05463499999999, 68.05589, 67.99476, 68.243325, 67.913495, 68.44563, 68.133735, 68.140055, 68.12816000000001, 67.98356, 68.140055, 68.1497, 68.44039, 68.13406499999999, 68.2041, 68.13553, 68.11233999999999, 68.37411499999999, 67.72019, 67.91079500000001, 68.270515, 67.92481000000001, 68.32099500000001, 68.25687, 68.231515, 67.96079, 68.20127500000001, 68.47120000000001, 67.54073, 68.08820499999999, 68.04314, 68.09864999999999, 68.15716, 67.92655500000001, 68.025125, 68.175735, 67.72488000000001, 67.70265, 68.125845, 68.48362, 68.33723, 68.062105, 68.49078, 67.648585, 68.088195, 68.01012, 68.43757, 68.38141999999999, 68.047895, 68.026675, 67.85298, 68.13040000000001, 68.10844, 68.18108000000001, 67.90948, 68.19339, 67.72812, 67.62386000000001, 68.105, 68.448525, 68.42565, 68.095595, 68.12339, 68.35741, 67.99145, 67.90463, 68.09546, 67.93199000000001, 68.11746500000001, 68.45054999999999, 68.53519, 67.86758, 68.45013, 68.138795, 67.955795, 68.215475, 67.95924500000001, 68.19803, 68.27948, 68.483645, 68.023165, 67.48299, 67.71915, 67.44820999999999, 68.28598, 67.3868, 67.98356, 67.56434999999999, 67.983845, 68.37301500000001, 68.03159, 68.41, 68.43657, 68.175355, 68.38011499999999, 68.15208000000001, 67.65881999999999, 68.429555, 68.475295, 67.967485, 68.230035, 67.93016, 68.06130999999999, 67.987905, 67.629775, 68.15371999999999, 68.04198, 68.20399499999999, 68.42011500000001, 68.2514, 68.511665, 67.948035, 68.24406, 67.798735, 68.41365, 68.75973, 68.09190000000001, 68.6558, 68.259795, 68.276925, 68.07415499999999, 68.84727000000001, 67.836115, 67.7333, 68.301365, 67.644905, 68.2041, 67.98667499999999, 68.19803, 67.358945, 68.38415, 67.9229, 67.628725, 68.22229, 68.353385, 68.01531, 67.563025, 68.5318, 68.442035, 67.944805, 68.20559, 68.28099, 68.5318, 67.34106, 68.10851500000001, 68.43625499999999, 68.064945, 68.11931999999999, 68.25512499999999, 68.14245, 68.38458, 67.96424, 67.42537999999999, 68.58795, 67.87546499999999, 67.71368000000001, 68.11536000000001, 68.02994, 67.796645, 67.98125999999999, 68.074475, 67.78723, 68.04666499999999, 68.13059000000001, 68.41591, 68.022885, 68.12662499999999, 68.46731, 68.46126000000001, 67.92389, 68.562455, 68.21201500000001, 67.894555, 67.984395, 68.236545, 68.46672000000001, 67.85266, 68.73433, 68.13549, 67.9529, 68.49738500000001, 68.36308, 68.48362, 68.19466, 68.346545, 68.55785, 68.181015, 67.94799499999999, 68.09378, 68.2041, 68.13284999999999, 68.567685, 68.80480499999999, 67.763015, 68.53148999999999, 68.24816, 67.77350000000001, 68.310465, 67.95644999999999, 68.438755, 68.07459, 68.27360999999999, 67.8148, 68.06067999999999, 67.81525, 68.06067999999999, 67.94074499999999, 68.587225, 68.27242000000001, 68.56783, 68.215475, 67.98863, 68.11331, 68.18478999999999, 68.22267500000001, 68.20539, 68.48214999999999, 68.18663000000001, 68.030085, 67.82459, 68.030085, 68.32510500000001, 68.10599500000001, 68.03349499999999, 68.07459, 68.17134, 68.39183499999999, 68.2425, 68.124415, 68.12056000000001, 68.427885, 67.72019, 68.34943000000001, 68.507215, 67.99635, 68.25268, 67.83050499999999, 68.367845, 68.56477000000001, 68.22237000000001, 68.05162, 67.682345, 68.309745, 68.38486, 68.10936000000001, 68.28692000000001, 67.741505, 68.4166, 67.93808, 68.5621, 68.484825, 67.70966, 67.819175, 68.313265, 68.37231, 68.25512499999999, 68.028355, 68.36893, 68.22334000000001, 68.543275, 67.92613, 68.036825, 68.04666499999999, 68.492875, 68.19426, 67.98557500000001, 68.04487, 68.200185, 68.22439, 68.48366, 68.13963, 67.93199000000001, 67.96669, 68.091205, 68.00775999999999, 68.25849500000001, 67.547565, 67.89658, 67.722055, 67.82996499999999, 68.31800000000001, 68.13295, 68.0178, 67.97145499999999, 68.182815, 68.121985, 68.50128000000001, 68.4452, 68.008455, 68.13809499999999, 67.84577999999999, 68.40339, 68.610555, 68.237505, 68.37409, 68.12145000000001, 68.41529499999999, 68.676985, 68.431115, 67.62268499999999, 67.64441500000001, 68.06693, 67.96301, 68.60567, 67.695675, 67.4739, 68.37599, 68.417, 68.64666, 67.93528, 68.1953, 68.433615, 68.169115, 68.134055, 68.311965, 68.270725, 68.096195, 67.97522, 68.08923, 67.98356, 68.32983, 68.51937000000001, 68.041935, 68.54084499999999, 68.07297, 68.28673, 68.03284, 67.623065, 67.570475, 68.580365, 68.44854000000001, 68.06402, 67.93685500000001, 68.072195, 67.91464500000001, 68.17254, 68.4452, 68.15455, 68.13000500000001, 67.878995, 68.28005, 67.70241, 68.22422, 68.47409, 68.15116, 68.13522499999999, 68.04030499999999, 68.070175, 68.00404, 68.247015, 68.249945, 68.05282, 68.40335, 68.34441, 68.1921, 68.361965, 68.202245, 67.91698, 68.13679, 68.24165500000001, 68.11798, 68.3218, 68.067335, 68.160515, 68.17272, 68.51893, 68.32727, 68.327315, 68.0474, 68.07926499999999, 67.940145, 68.43657, 68.15426, 67.962605, 68.12662499999999, 68.02353500000001, 67.93339, 67.900745, 68.46157, 68.094835, 67.956885, 68.51319000000001, 67.9192, 68.33223000000001, 68.3268, 67.99598499999999, 67.96776, 68.09649999999999, 68.34384, 68.258585, 68.13522499999999, 68.23002, 68.39176499999999, 68.590195, 67.835785, 68.245395, 68.08923, 68.260325, 67.874755, 68.20653, 68.407145, 68.14353, 68.38225, 68.22328, 68.134055, 68.439065, 68.330695, 68.853245, 67.64414, 68.14226500000001, 68.381725, 68.13168, 68.49049, 68.121145, 67.97145499999999, 68.313525, 68.243325, 68.269185, 68.20653]\n"
          ]
        }
      ]
    },
    {
      "cell_type": "code",
      "source": [
        "ci1= np.percentile(medians,2.5)\n",
        "ci2= np.percentile(medians,97.5)\n"
      ],
      "metadata": {
        "id": "lPsleXDd54tO"
      },
      "execution_count": 19,
      "outputs": []
    },
    {
      "cell_type": "code",
      "source": [
        "print(ci1,ci2)"
      ],
      "metadata": {
        "colab": {
          "base_uri": "https://localhost:8080/"
        },
        "id": "BlXFuEn16Pad",
        "outputId": "2508343c-8d4b-4d22-9e37-5f2fa6723745"
      },
      "execution_count": 20,
      "outputs": [
        {
          "output_type": "stream",
          "name": "stdout",
          "text": [
            "67.59516212500002 68.56878725\n"
          ]
        }
      ]
    },
    {
      "cell_type": "code",
      "source": [
        "np.median(df)"
      ],
      "metadata": {
        "colab": {
          "base_uri": "https://localhost:8080/"
        },
        "id": "ByvtedcO6RoT",
        "outputId": "74e78f4a-7793-4eb2-99bf-cf0409b9b9bd"
      },
      "execution_count": 21,
      "outputs": [
        {
          "output_type": "execute_result",
          "data": {
            "text/plain": [
              "67.9957"
            ]
          },
          "metadata": {},
          "execution_count": 21
        }
      ]
    },
    {
      "cell_type": "code",
      "source": [
        "#90 % confidence\n",
        "ci1= np.percentile(medians,5)\n",
        "ci2= np.percentile(medians,95)"
      ],
      "metadata": {
        "id": "qOHWv0OE6lil"
      },
      "execution_count": 22,
      "outputs": []
    },
    {
      "cell_type": "code",
      "source": [
        "ci1"
      ],
      "metadata": {
        "colab": {
          "base_uri": "https://localhost:8080/"
        },
        "id": "9jW27OgNXnhW",
        "outputId": "d9de9f26-3d1d-45b9-e013-f33945933a89"
      },
      "execution_count": 23,
      "outputs": [
        {
          "output_type": "execute_result",
          "data": {
            "text/plain": [
              "67.7022685"
            ]
          },
          "metadata": {},
          "execution_count": 23
        }
      ]
    },
    {
      "cell_type": "code",
      "source": [
        "ci2"
      ],
      "metadata": {
        "colab": {
          "base_uri": "https://localhost:8080/"
        },
        "id": "vZlCYzz8Xo3Q",
        "outputId": "d47f3f82-efb1-4763-c165-935516ca86b3"
      },
      "execution_count": 24,
      "outputs": [
        {
          "output_type": "execute_result",
          "data": {
            "text/plain": [
              "68.524304"
            ]
          },
          "metadata": {},
          "execution_count": 24
        }
      ]
    },
    {
      "cell_type": "markdown",
      "source": [
        "#one mean test\n",
        "the IQ in a certain population is normally distributed with a mean of μ = 100 and standard deviation of σ = 15. A researcher wants to know if a new drug affects IQ levels, so he recruits 20 patients to try it and records their IQ levels"
      ],
      "metadata": {
        "id": "CwPD3-WYNFSX"
      }
    },
    {
      "cell_type": "code",
      "source": [
        "alpha =0.05\n",
        "\n",
        "from statsmodels.stats.weightstats import ztest as ztest\n",
        "\n",
        "#enter IQ levels for 20 patients\n",
        "data = [88, 92, 94, 94, 96, 97, 97, 97, 99, 99,\n",
        "        105, 109, 109, 109, 110, 112, 112, 113, 114, 115]\n",
        "\n",
        "#perform one sample z-test\n",
        "ztest_Score, p_value=ztest(data, value=100)\n",
        "\n",
        "print(ztest_Score, p_value)\n",
        "if(p_value <  alpha):\n",
        "  print(\"Reject Null Hypothesis\")\n",
        "else:\n",
        "  print(\"Fail to Reject NUll Hypothesis\")\n",
        "\n"
      ],
      "metadata": {
        "colab": {
          "base_uri": "https://localhost:8080/"
        },
        "id": "Ks0rXtcONDsv",
        "outputId": "351b4c94-6f1b-438b-9bed-0af0eea76a43"
      },
      "execution_count": 12,
      "outputs": [
        {
          "output_type": "stream",
          "name": "stdout",
          "text": [
            "1.5976240527147705 0.1101266701438426\n",
            "Fail to Reject NUll Hypothesis\n"
          ]
        }
      ]
    },
    {
      "cell_type": "markdown",
      "source": [
        "#2 mean test"
      ],
      "metadata": {
        "id": "JVmRyAg2aIgY"
      }
    },
    {
      "cell_type": "markdown",
      "source": [
        "Suppose the IQ levels among individuals in two different cities are known to be normally distributed with known standard deviations.\n",
        "\n",
        "A researcher wants to know if the mean IQ level between individuals in city A and city B are different, so she selects a simple random sample of  20 individuals from each city and records their IQ levels"
      ],
      "metadata": {
        "id": "oeFnYEl7MBKP"
      }
    },
    {
      "cell_type": "code",
      "source": [
        "from statsmodels.stats.weightstats import ztest as ztest\n",
        "\n",
        "#enter IQ levels for 20 individuals from each city\n",
        "cityA = [82, 84, 85, 89, 91, 91, 92, 94, 99, 99,\n",
        "         105, 109, 109, 109, 110, 112, 112, 113, 114, 114]\n",
        "\n",
        "cityB = [90, 91, 91, 91, 95, 95, 99, 99, 108, 109,\n",
        "         109, 114, 115, 116, 117, 117, 128, 129, 130, 133]\n",
        "\n",
        "#perform two sample z-test\n",
        "ztest(cityA, cityB, value=0) \n",
        "\n",
        "(-1.9953236073282115, 0.046007596761332065)"
      ],
      "metadata": {
        "colab": {
          "base_uri": "https://localhost:8080/"
        },
        "id": "U4_nrJCMMDaU",
        "outputId": "f3eee1ee-2732-4225-dc2d-f870eff0a7a2"
      },
      "execution_count": 5,
      "outputs": [
        {
          "output_type": "execute_result",
          "data": {
            "text/plain": [
              "(-1.9953236073282115, 0.046007596761332065)"
            ]
          },
          "metadata": {},
          "execution_count": 5
        }
      ]
    },
    {
      "cell_type": "markdown",
      "source": [
        "The test statistic for the two sample z-test is -1.9953 and the corresponding p-value is 0.0460.\n",
        "\n",
        "Since this p-value is less than .05, we have sufficient evidence to reject the null hypothesis. In other words, the mean IQ level is significantly different between the two cities."
      ],
      "metadata": {
        "id": "kFP710IZMOx0"
      }
    },
    {
      "cell_type": "code",
      "source": [
        "\n",
        "# Importing library\n",
        "from statsmodels.stats.weightstats import ttest_ind\n",
        "import numpy as np\n",
        " \n",
        "# Creating data groups\n",
        "data_group1 = np.array([160, 150, 160, 156.12,\n",
        "                        163.24,\n",
        "                        160.56, 168.56, 174.12,\n",
        "                        167.123, 165.12])\n",
        "data_group2 = np.array([157.97, 146, 140.2, 170.15,\n",
        "                        167.34, 176.123, 162.35,\n",
        "                        159.123, 169.43, 148.123])\n",
        " \n",
        "# Conducting two-sample ttest\n",
        "ttest_ind(data_group1, data_group2)"
      ],
      "metadata": {
        "colab": {
          "base_uri": "https://localhost:8080/"
        },
        "id": "UApfG7BEMJ3t",
        "outputId": "92ae8fc3-3205-407f-bc63-0fa421ecad0f"
      },
      "execution_count": 4,
      "outputs": [
        {
          "output_type": "execute_result",
          "data": {
            "text/plain": [
              "(0.6531479162158739, 0.5219170107019715, 18.0)"
            ]
          },
          "metadata": {},
          "execution_count": 4
        }
      ]
    },
    {
      "cell_type": "code",
      "source": [
        "from statsmodels.stats.proportion import proportions_ztest\n",
        "\n",
        "# can we assume anything from our sample\n",
        "significance = 0.05\n",
        "\n",
        "# our sample - 82% are good\n",
        "sample_success = 410\n",
        "sample_size = 500\n",
        "\n",
        "# our Ho is  80%\n",
        "null_hypothesis = 0.80\n",
        "\n",
        "# check our sample against Ho for Ha > Ho\n",
        "# for Ha < Ho use alternative='smaller'\n",
        "# for Ha != Ho use alternative='two-sided'\n",
        "stat, p_value = proportions_ztest (count=sample_success, nobs=sample_size, value=null_hypothesis, alternative='larger')\n",
        "\n",
        "# report\n",
        "print('z_stat: %0.3f, p_value: %0.3f' % (stat, p_value)) \n",
        "\n",
        "if p_value > significance:\n",
        "   print (\"Fail to reject the null hypothesis - we have nothing else to say\")\n",
        "else:\n",
        "   print (\"Reject the null hypothesis - suggest the alternative hypothesis is true\")"
      ],
      "metadata": {
        "id": "Jhtalr6Hk-WW",
        "outputId": "ce6f5278-273b-42c9-85de-7e11a9ea3d25",
        "colab": {
          "base_uri": "https://localhost:8080/"
        }
      },
      "execution_count": 3,
      "outputs": [
        {
          "output_type": "stream",
          "name": "stdout",
          "text": [
            "z_stat: 1.164, p_value: 0.122\n",
            "Fail to reject the null hypothesis - we have nothing else to say\n"
          ]
        }
      ]
    },
    {
      "cell_type": "code",
      "source": [
        "\n",
        "from statsmodels.stats.proportion import -\n",
        "\\\n",
        "import numpy as np\n",
        "\n",
        "# can we assume anything from our sample\n",
        "significance = 0.025\n",
        "\n",
        "# our samples - 82% are good in one, and ~79% are good in the other\n",
        "# note - the samples do not need to be the same size\n",
        "sample_success_a, sample_size_a = (5,83) \n",
        "sample_success_b, sample_size_b = (12,99)\n",
        "\n",
        "# check our sample against Ho for Ha != Ho\n",
        "successes = np.array([sample_success_a, sample_success_b])\n",
        "samples = np.array([sample_size_a, sample_size_b])\n",
        "\n",
        "# note, no need for a Ho value here - it's derived from the other parameters\n",
        "stat, p_value = proportions_ztest(count=successes, nobs=samples,  alternative='two-sided')\n",
        "\n",
        "# report\n",
        "print('z_stat: %0.3f, p_value: %0.3f' % (stat, p_value))\n",
        "\n",
        "if p_value > significance:\n",
        "   print (\"Fail to reject the null hypothesis - we have nothing else to say\")\n",
        "else:\n",
        "   print (\"Reject the null hypothesis - suggest the alternative hypothesis is true\")"
      ],
      "metadata": {
        "id": "GKNGFldwcFbZ",
        "outputId": "04d94f37-8320-4bd4-9cd6-5fbb71b9a5fa",
        "colab": {
          "base_uri": "https://localhost:8080/"
        }
      },
      "execution_count": 6,
      "outputs": [
        {
          "output_type": "stream",
          "name": "stdout",
          "text": [
            "z_stat: -1.408, p_value: 0.159\n",
            "Fail to reject the null hypothesis - we have nothing else to say\n"
          ]
        }
      ]
    },
    {
      "cell_type": "code",
      "source": [
        "import numpy as np\n",
        "from mlxtend.evaluate import permutation_test\n",
        "\n",
        "x = np.array([1, 2, 3, 4, 5, 6])\n",
        "y = np.array([2, 4, 1, 5, 6, 7])\n",
        "\n",
        "\n",
        "p_value = permutation_test(x, y,method='exact',seed=0)\n",
        "print('P value: %.2f' % p_value)"
      ],
      "metadata": {
        "id": "LOckvGOcbSfI",
        "outputId": "95b2df08-ccf2-4e05-fe4f-b0039f02ddbc",
        "colab": {
          "base_uri": "https://localhost:8080/"
        }
      },
      "execution_count": 11,
      "outputs": [
        {
          "output_type": "stream",
          "name": "stdout",
          "text": [
            "P value: 0.49\n"
          ]
        }
      ]
    },
    {
      "cell_type": "code",
      "source": [
        "import numpy as np\n",
        "from mlxtend.evaluate import permutation_test\n",
        "\n",
        "x = np.array([1, 2, 3, 4, 5, 6])\n",
        "y = np.array([2, 4, 1, 5, 6, 7])\n",
        "\n",
        "\n",
        "p_value = permutation_test(x, y,\n",
        "                           func=\"x_mean > y_mean\",\n",
        "                           method='exact',\n",
        "                           seed=0)\n",
        "print('P value: %.2f' % p_value)"
      ],
      "metadata": {
        "id": "qwarAGxMZnky",
        "outputId": "e88ff967-741f-4848-fb6d-40d3e8b591ba",
        "colab": {
          "base_uri": "https://localhost:8080/"
        }
      },
      "execution_count": 12,
      "outputs": [
        {
          "output_type": "stream",
          "name": "stdout",
          "text": [
            "P value: 0.66\n"
          ]
        }
      ]
    },
    {
      "cell_type": "code",
      "source": [
        "import numpy as np\n",
        "from mlxtend.evaluate import permutation_test\n",
        "\n",
        "x = np.array([1, 2, 3, 4, 5, 6])\n",
        "y = np.array([2, 4, 1, 5, 6, 7])\n",
        "p_value = permutation_test(x, y,\n",
        "                           method='exact',\n",
        "                           func=lambda x, y: -,\n",
        "                           seed=0)\n",
        "print('P value: %.2f' % p_value)\n",
        "\n",
        "\n",
        "\n"
      ],
      "metadata": {
        "id": "GNfCwQYF7exO",
        "outputId": "5e4e2175-0af7-4285-fb41-13923cff453b",
        "colab": {
          "base_uri": "https://localhost:8080/"
        }
      },
      "execution_count": 16,
      "outputs": [
        {
          "output_type": "stream",
          "name": "stdout",
          "text": [
            "P value: 0.09\n"
          ]
        }
      ]
    },
    {
      "cell_type": "code",
      "source": [],
      "metadata": {
        "id": "TL1ZNURsZZ-M"
      },
      "execution_count": null,
      "outputs": []
    }
  ]
}